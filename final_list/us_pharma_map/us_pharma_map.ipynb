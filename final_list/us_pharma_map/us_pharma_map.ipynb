{
 "cells": [
  {
   "cell_type": "markdown",
   "metadata": {},
   "source": [
    "### Import Library"
   ]
  },
  {
   "cell_type": "code",
   "execution_count": 1,
   "metadata": {},
   "outputs": [],
   "source": [
    "import pandas as pd\n",
    "import numpy as np\n",
    "import folium\n",
    "from googlegeocoder import GoogleGeocoder\n",
    "import unicodecsv as csv"
   ]
  },
  {
   "cell_type": "markdown",
   "metadata": {},
   "source": [
    "### Data import"
   ]
  },
  {
   "cell_type": "code",
   "execution_count": 3,
   "metadata": {},
   "outputs": [],
   "source": [
    "df = pd.read_csv('us_pharma_02_map_top.csv', encoding='latin-1')\n"
   ]
  },
  {
   "cell_type": "markdown",
   "metadata": {},
   "source": [
    "### Data "
   ]
  },
  {
   "cell_type": "code",
   "execution_count": 4,
   "metadata": {},
   "outputs": [
    {
     "data": {
      "text/plain": [
       "(308, 10)"
      ]
     },
     "execution_count": 4,
     "metadata": {},
     "output_type": "execute_result"
    }
   ],
   "source": [
    "df.shape"
   ]
  },
  {
   "cell_type": "code",
   "execution_count": 5,
   "metadata": {},
   "outputs": [
    {
     "data": {
      "text/plain": [
       "company           0\n",
       "city             42\n",
       "state            29\n",
       "full_address      0\n",
       "zip_code         44\n",
       "website          50\n",
       "career           69\n",
       "top             264\n",
       "rank            264\n",
       "AI              278\n",
       "dtype: int64"
      ]
     },
     "execution_count": 5,
     "metadata": {},
     "output_type": "execute_result"
    }
   ],
   "source": [
    "df.isnull().sum()"
   ]
  },
  {
   "cell_type": "code",
   "execution_count": 6,
   "metadata": {},
   "outputs": [
    {
     "data": {
      "text/html": [
       "<div>\n",
       "<style scoped>\n",
       "    .dataframe tbody tr th:only-of-type {\n",
       "        vertical-align: middle;\n",
       "    }\n",
       "\n",
       "    .dataframe tbody tr th {\n",
       "        vertical-align: top;\n",
       "    }\n",
       "\n",
       "    .dataframe thead th {\n",
       "        text-align: right;\n",
       "    }\n",
       "</style>\n",
       "<table border=\"1\" class=\"dataframe\">\n",
       "  <thead>\n",
       "    <tr style=\"text-align: right;\">\n",
       "      <th></th>\n",
       "      <th>company</th>\n",
       "      <th>city</th>\n",
       "      <th>state</th>\n",
       "      <th>full_address</th>\n",
       "      <th>zip_code</th>\n",
       "      <th>website</th>\n",
       "      <th>career</th>\n",
       "      <th>top</th>\n",
       "      <th>rank</th>\n",
       "      <th>AI</th>\n",
       "    </tr>\n",
       "  </thead>\n",
       "  <tbody>\n",
       "    <tr>\n",
       "      <th>0</th>\n",
       "      <td>Pfizer Inc.</td>\n",
       "      <td>New York</td>\n",
       "      <td>NY</td>\n",
       "      <td>235 East 42nd Street New York, NY 10017</td>\n",
       "      <td>10017</td>\n",
       "      <td>http://www.pfizer.com/home/</td>\n",
       "      <td>www.pfizerrxpathways.com</td>\n",
       "      <td>yes</td>\n",
       "      <td>1.0</td>\n",
       "      <td>yes</td>\n",
       "    </tr>\n",
       "    <tr>\n",
       "      <th>1</th>\n",
       "      <td>Roche-genentech</td>\n",
       "      <td>NaN</td>\n",
       "      <td>CA</td>\n",
       "      <td>1 DNA Way south San Francisco CA 94080</td>\n",
       "      <td>NaN</td>\n",
       "      <td>NaN</td>\n",
       "      <td>NaN</td>\n",
       "      <td>yes</td>\n",
       "      <td>2.0</td>\n",
       "      <td>yes</td>\n",
       "    </tr>\n",
       "    <tr>\n",
       "      <th>2</th>\n",
       "      <td>Novartis Pharmaceuticals Corporation</td>\n",
       "      <td>Hanover</td>\n",
       "      <td>NJ</td>\n",
       "      <td>One Health Plaza East  Hanover, NJ 07936-1080</td>\n",
       "      <td>07936-1080</td>\n",
       "      <td>https://www.pharma.us.novartis.com/</td>\n",
       "      <td>https://www.pharma.us.novartis.com...</td>\n",
       "      <td>yes</td>\n",
       "      <td>3.0</td>\n",
       "      <td>yes</td>\n",
       "    </tr>\n",
       "    <tr>\n",
       "      <th>3</th>\n",
       "      <td>Johnson &amp; Johnson Consumer Inc.</td>\n",
       "      <td>New Brunswick</td>\n",
       "      <td>NJ</td>\n",
       "      <td>1 Johnson and Johnson Plaza, New Brunswick, NJ...</td>\n",
       "      <td>8933</td>\n",
       "      <td>http://www.jnj.com/</td>\n",
       "      <td>https://www.careers.jnj.com</td>\n",
       "      <td>yes</td>\n",
       "      <td>4.0</td>\n",
       "      <td>NaN</td>\n",
       "    </tr>\n",
       "    <tr>\n",
       "      <th>4</th>\n",
       "      <td>Merck</td>\n",
       "      <td>kenilworth</td>\n",
       "      <td>NJ</td>\n",
       "      <td>2000 Galloping Hill Road,  Kenilworth, NJ 07033</td>\n",
       "      <td>NaN</td>\n",
       "      <td>NaN</td>\n",
       "      <td>NaN</td>\n",
       "      <td>yes</td>\n",
       "      <td>5.0</td>\n",
       "      <td>yes</td>\n",
       "    </tr>\n",
       "  </tbody>\n",
       "</table>\n",
       "</div>"
      ],
      "text/plain": [
       "                                company           city state  \\\n",
       "0                           Pfizer Inc.       New York    NY   \n",
       "1                       Roche-genentech            NaN    CA   \n",
       "2  Novartis Pharmaceuticals Corporation        Hanover    NJ   \n",
       "3       Johnson & Johnson Consumer Inc.  New Brunswick    NJ   \n",
       "4                                 Merck     kenilworth    NJ   \n",
       "\n",
       "                                        full_address    zip_code  \\\n",
       "0            235 East 42nd Street New York, NY 10017       10017   \n",
       "1             1 DNA Way south San Francisco CA 94080         NaN   \n",
       "2      One Health Plaza East  Hanover, NJ 07936-1080  07936-1080   \n",
       "3  1 Johnson and Johnson Plaza, New Brunswick, NJ...        8933   \n",
       "4    2000 Galloping Hill Road,  Kenilworth, NJ 07033         NaN   \n",
       "\n",
       "                               website                                 career  \\\n",
       "0          http://www.pfizer.com/home/               www.pfizerrxpathways.com   \n",
       "1                                  NaN                                    NaN   \n",
       "2  https://www.pharma.us.novartis.com/  https://www.pharma.us.novartis.com...   \n",
       "3                  http://www.jnj.com/            https://www.careers.jnj.com   \n",
       "4                                  NaN                                    NaN   \n",
       "\n",
       "   top  rank   AI  \n",
       "0  yes   1.0  yes  \n",
       "1  yes   2.0  yes  \n",
       "2  yes   3.0  yes  \n",
       "3  yes   4.0  NaN  \n",
       "4  yes   5.0  yes  "
      ]
     },
     "execution_count": 6,
     "metadata": {},
     "output_type": "execute_result"
    }
   ],
   "source": [
    "df.head()"
   ]
  },
  {
   "cell_type": "markdown",
   "metadata": {},
   "source": [
    "### Create csv file for saving latitude and longitude "
   ]
  },
  {
   "cell_type": "code",
   "execution_count": 11,
   "metadata": {},
   "outputs": [
    {
     "data": {
      "text/plain": [
       "9"
      ]
     },
     "execution_count": 11,
     "metadata": {},
     "output_type": "execute_result"
    }
   ],
   "source": [
    "csv_file = open('us_pharma_coordinate.csv', 'ab')\n",
    "writer = csv.writer(csv_file, dialect='excel', delimiter=',', encoding='utf-8')\n",
    "#writer.writerow(['Search_Term', 'Result', 'Title', 'URL', 'Abstract'])\n",
    "writer.writerow(['lat', 'lng'])"
   ]
  },
  {
   "cell_type": "code",
   "execution_count": 12,
   "metadata": {},
   "outputs": [],
   "source": [
    "# take only full address\n",
    "df_add = df['full_address']"
   ]
  },
  {
   "cell_type": "code",
   "execution_count": 13,
   "metadata": {},
   "outputs": [
    {
     "data": {
      "text/plain": [
       "308"
      ]
     },
     "execution_count": 13,
     "metadata": {},
     "output_type": "execute_result"
    }
   ],
   "source": [
    "len(df_add)"
   ]
  },
  {
   "cell_type": "markdown",
   "metadata": {},
   "source": [
    "### find latitude and longitude from address"
   ]
  },
  {
   "cell_type": "code",
   "execution_count": 14,
   "metadata": {},
   "outputs": [],
   "source": [
    "geocoder = GoogleGeocoder(\"your key\")"
   ]
  },
  {
   "cell_type": "code",
   "execution_count": 15,
   "metadata": {},
   "outputs": [],
   "source": [
    "# address that does not work save into list\n",
    "no_lat =[]\n",
    "for k in df_add:\n",
    "    try:\n",
    "        search = geocoder.get(k)\n",
    "        lat = search[0].geometry.location.lat\n",
    "        lng = search[0].geometry.location.lng\n",
    "        writer.writerow([lat, lng])\n",
    "        \n",
    "    except:\n",
    "        no_lat.append(k)\n",
    "        pass\n",
    "csv_file.close()  \n",
    "\n"
   ]
  },
  {
   "cell_type": "code",
   "execution_count": 16,
   "metadata": {},
   "outputs": [
    {
     "data": {
      "text/plain": [
       "[]"
      ]
     },
     "execution_count": 16,
     "metadata": {},
     "output_type": "execute_result"
    }
   ],
   "source": [
    "# check any address that did not work\n",
    "# luckily all of them worked\n",
    "no_lat"
   ]
  },
  {
   "cell_type": "code",
   "execution_count": 35,
   "metadata": {},
   "outputs": [],
   "source": [
    "# read the latitude file\n",
    "cordi = pd.read_csv('us_pharma_coordinate.csv')"
   ]
  },
  {
   "cell_type": "code",
   "execution_count": 36,
   "metadata": {},
   "outputs": [
    {
     "data": {
      "text/plain": [
       "(308, 2)"
      ]
     },
     "execution_count": 36,
     "metadata": {},
     "output_type": "execute_result"
    }
   ],
   "source": [
    "cordi.shape"
   ]
  },
  {
   "cell_type": "code",
   "execution_count": 37,
   "metadata": {},
   "outputs": [],
   "source": [
    "# merge two file into one\n",
    "df_map = pd.concat([df, cordi], axis=1)"
   ]
  },
  {
   "cell_type": "code",
   "execution_count": 38,
   "metadata": {},
   "outputs": [
    {
     "data": {
      "text/html": [
       "<div>\n",
       "<style scoped>\n",
       "    .dataframe tbody tr th:only-of-type {\n",
       "        vertical-align: middle;\n",
       "    }\n",
       "\n",
       "    .dataframe tbody tr th {\n",
       "        vertical-align: top;\n",
       "    }\n",
       "\n",
       "    .dataframe thead th {\n",
       "        text-align: right;\n",
       "    }\n",
       "</style>\n",
       "<table border=\"1\" class=\"dataframe\">\n",
       "  <thead>\n",
       "    <tr style=\"text-align: right;\">\n",
       "      <th></th>\n",
       "      <th>company</th>\n",
       "      <th>city</th>\n",
       "      <th>state</th>\n",
       "      <th>full_address</th>\n",
       "      <th>zip_code</th>\n",
       "      <th>website</th>\n",
       "      <th>career</th>\n",
       "      <th>top</th>\n",
       "      <th>rank</th>\n",
       "      <th>AI</th>\n",
       "      <th>lat</th>\n",
       "      <th>lng</th>\n",
       "    </tr>\n",
       "  </thead>\n",
       "  <tbody>\n",
       "    <tr>\n",
       "      <th>0</th>\n",
       "      <td>Pfizer Inc.</td>\n",
       "      <td>New York</td>\n",
       "      <td>NY</td>\n",
       "      <td>235 East 42nd Street New York, NY 10017</td>\n",
       "      <td>10017</td>\n",
       "      <td>http://www.pfizer.com/home/</td>\n",
       "      <td>www.pfizerrxpathways.com</td>\n",
       "      <td>yes</td>\n",
       "      <td>1.0</td>\n",
       "      <td>yes</td>\n",
       "      <td>40.750302</td>\n",
       "      <td>-73.972657</td>\n",
       "    </tr>\n",
       "    <tr>\n",
       "      <th>1</th>\n",
       "      <td>Roche-genentech</td>\n",
       "      <td>NaN</td>\n",
       "      <td>CA</td>\n",
       "      <td>1 DNA Way south San Francisco CA 94080</td>\n",
       "      <td>NaN</td>\n",
       "      <td>NaN</td>\n",
       "      <td>NaN</td>\n",
       "      <td>yes</td>\n",
       "      <td>2.0</td>\n",
       "      <td>yes</td>\n",
       "      <td>37.656452</td>\n",
       "      <td>-122.377645</td>\n",
       "    </tr>\n",
       "    <tr>\n",
       "      <th>2</th>\n",
       "      <td>Novartis Pharmaceuticals Corporation</td>\n",
       "      <td>Hanover</td>\n",
       "      <td>NJ</td>\n",
       "      <td>One Health Plaza East  Hanover, NJ 07936-1080</td>\n",
       "      <td>07936-1080</td>\n",
       "      <td>https://www.pharma.us.novartis.com/</td>\n",
       "      <td>https://www.pharma.us.novartis.com...</td>\n",
       "      <td>yes</td>\n",
       "      <td>3.0</td>\n",
       "      <td>yes</td>\n",
       "      <td>40.808241</td>\n",
       "      <td>-74.388637</td>\n",
       "    </tr>\n",
       "    <tr>\n",
       "      <th>3</th>\n",
       "      <td>Johnson &amp; Johnson Consumer Inc.</td>\n",
       "      <td>New Brunswick</td>\n",
       "      <td>NJ</td>\n",
       "      <td>1 Johnson and Johnson Plaza, New Brunswick, NJ...</td>\n",
       "      <td>8933</td>\n",
       "      <td>http://www.jnj.com/</td>\n",
       "      <td>https://www.careers.jnj.com</td>\n",
       "      <td>yes</td>\n",
       "      <td>4.0</td>\n",
       "      <td>NaN</td>\n",
       "      <td>40.499277</td>\n",
       "      <td>-74.442038</td>\n",
       "    </tr>\n",
       "    <tr>\n",
       "      <th>4</th>\n",
       "      <td>Merck</td>\n",
       "      <td>kenilworth</td>\n",
       "      <td>NJ</td>\n",
       "      <td>2000 Galloping Hill Road,  Kenilworth, NJ 07033</td>\n",
       "      <td>NaN</td>\n",
       "      <td>NaN</td>\n",
       "      <td>NaN</td>\n",
       "      <td>yes</td>\n",
       "      <td>5.0</td>\n",
       "      <td>yes</td>\n",
       "      <td>40.677430</td>\n",
       "      <td>-74.272355</td>\n",
       "    </tr>\n",
       "  </tbody>\n",
       "</table>\n",
       "</div>"
      ],
      "text/plain": [
       "                                company           city state  \\\n",
       "0                           Pfizer Inc.       New York    NY   \n",
       "1                       Roche-genentech            NaN    CA   \n",
       "2  Novartis Pharmaceuticals Corporation        Hanover    NJ   \n",
       "3       Johnson & Johnson Consumer Inc.  New Brunswick    NJ   \n",
       "4                                 Merck     kenilworth    NJ   \n",
       "\n",
       "                                        full_address    zip_code  \\\n",
       "0            235 East 42nd Street New York, NY 10017       10017   \n",
       "1             1 DNA Way south San Francisco CA 94080         NaN   \n",
       "2      One Health Plaza East  Hanover, NJ 07936-1080  07936-1080   \n",
       "3  1 Johnson and Johnson Plaza, New Brunswick, NJ...        8933   \n",
       "4    2000 Galloping Hill Road,  Kenilworth, NJ 07033         NaN   \n",
       "\n",
       "                               website                                 career  \\\n",
       "0          http://www.pfizer.com/home/               www.pfizerrxpathways.com   \n",
       "1                                  NaN                                    NaN   \n",
       "2  https://www.pharma.us.novartis.com/  https://www.pharma.us.novartis.com...   \n",
       "3                  http://www.jnj.com/            https://www.careers.jnj.com   \n",
       "4                                  NaN                                    NaN   \n",
       "\n",
       "   top  rank   AI        lat         lng  \n",
       "0  yes   1.0  yes  40.750302  -73.972657  \n",
       "1  yes   2.0  yes  37.656452 -122.377645  \n",
       "2  yes   3.0  yes  40.808241  -74.388637  \n",
       "3  yes   4.0  NaN  40.499277  -74.442038  \n",
       "4  yes   5.0  yes  40.677430  -74.272355  "
      ]
     },
     "execution_count": 38,
     "metadata": {},
     "output_type": "execute_result"
    }
   ],
   "source": [
    "df_map.head()"
   ]
  },
  {
   "cell_type": "code",
   "execution_count": 39,
   "metadata": {},
   "outputs": [],
   "source": [
    "# save file to directory\n",
    "df_map.to_csv('df_R.csv',index=False, )"
   ]
  },
  {
   "cell_type": "code",
   "execution_count": 40,
   "metadata": {},
   "outputs": [],
   "source": [
    "# make another copy named data\n",
    "data = df_map.copy()"
   ]
  },
  {
   "cell_type": "code",
   "execution_count": 41,
   "metadata": {},
   "outputs": [
    {
     "data": {
      "text/plain": [
       "Index(['company', 'city', 'state', 'full_address', 'zip_code', 'website',\n",
       "       'career', 'top', 'rank', 'AI', 'lat', 'lng'],\n",
       "      dtype='object')"
      ]
     },
     "execution_count": 41,
     "metadata": {},
     "output_type": "execute_result"
    }
   ],
   "source": [
    "data.columns\n"
   ]
  },
  {
   "cell_type": "code",
   "execution_count": 42,
   "metadata": {},
   "outputs": [
    {
     "name": "stdout",
     "output_type": "stream",
     "text": [
      "<class 'pandas.core.frame.DataFrame'>\n",
      "RangeIndex: 308 entries, 0 to 307\n",
      "Data columns (total 12 columns):\n",
      "company         308 non-null object\n",
      "city            266 non-null object\n",
      "state           279 non-null object\n",
      "full_address    308 non-null object\n",
      "zip_code        264 non-null object\n",
      "website         258 non-null object\n",
      "career          239 non-null object\n",
      "top             44 non-null object\n",
      "rank            44 non-null float64\n",
      "AI              30 non-null object\n",
      "lat             308 non-null float64\n",
      "lng             308 non-null float64\n",
      "dtypes: float64(3), object(9)\n",
      "memory usage: 29.0+ KB\n"
     ]
    }
   ],
   "source": [
    "data.info()"
   ]
  },
  {
   "cell_type": "code",
   "execution_count": 43,
   "metadata": {},
   "outputs": [],
   "source": [
    "# replace top nan to no\n",
    "# replace rank nan to not ranked\n",
    "# replace ai nan to no"
   ]
  },
  {
   "cell_type": "code",
   "execution_count": 44,
   "metadata": {},
   "outputs": [],
   "source": [
    "repla_top = { np.nan : 'No', 'yes': 'Yes'}\n",
    "data['top'].replace(repla_top, inplace = True)"
   ]
  },
  {
   "cell_type": "code",
   "execution_count": 45,
   "metadata": {},
   "outputs": [],
   "source": [
    "repla_ai = { np.nan : 'No', 'yes': 'Yes'}\n",
    "data['AI'].replace(repla_ai, inplace = True)"
   ]
  },
  {
   "cell_type": "code",
   "execution_count": 46,
   "metadata": {},
   "outputs": [],
   "source": [
    "repla_rank = { np.nan : 'Not Ranked'}\n",
    "data['rank'].replace(repla_rank, inplace = True)"
   ]
  },
  {
   "cell_type": "markdown",
   "metadata": {},
   "source": [
    "### make the map"
   ]
  },
  {
   "cell_type": "code",
   "execution_count": 48,
   "metadata": {},
   "outputs": [],
   "source": [
    "lat = list(data[\"lat\"])\n",
    "lon =list(data[\"lng\"])\n",
    "company_name =list(data[\"company\"])\n",
    "address_full = list(data[\"full_address\"])\n",
    "ai = list(data['AI'])\n",
    "top = list(data['top'])\n",
    "rank = list(data['rank'])\n",
    "\n",
    "# function for making different color\n",
    "\n",
    "def color_producer(top, ai):\n",
    "    if top =='Yes' and ai == 'Yes':\n",
    "        return \"red\"\n",
    "    elif top ==\"Yes\" and ai != 'Yes':\n",
    "        return \"blue\"\n",
    "    elif ai =='Yes' and top != 'Yes':\n",
    "        return \"purple\"\n",
    "    else:\n",
    "        return \"green\"\n",
    "\n",
    "\n",
    "map = folium.Map(location=[35.199,-101.91], zoom_start=5)\n",
    "\n",
    "fg=folium.FeatureGroup(name=\"My Map\")\n",
    "\n",
    "for lt, ln,cn,tp, ai, rn in zip(lat, lon,company_name, top, ai, rank):\n",
    "    fg.add_child(folium.Marker(location=[lt,ln],\n",
    "       popup= folium.Popup(str(cn) + \" , \"+ \"Top_Pharma?\" + \" \"+ str(tp) + \" \"+ \"||\"+\"Rank\"+\": \"+ str(rn)+ \" \"+ \" ||\"+ \"Use_AI?\"+ \" \"+ str(ai)),\n",
    "                               icon = folium.Icon(color = color_producer(tp, ai))))\n",
    "\n",
    "    map.add_child(fg)\n",
    "\n",
    "map.save(\"us_pharma_map.html\")"
   ]
  },
  {
   "cell_type": "code",
   "execution_count": null,
   "metadata": {},
   "outputs": [],
   "source": []
  }
 ],
 "metadata": {
  "kernelspec": {
   "display_name": "Python 3",
   "language": "python",
   "name": "python3"
  },
  "language_info": {
   "codemirror_mode": {
    "name": "ipython",
    "version": 3
   },
   "file_extension": ".py",
   "mimetype": "text/x-python",
   "name": "python",
   "nbconvert_exporter": "python",
   "pygments_lexer": "ipython3",
   "version": "3.6.7"
  }
 },
 "nbformat": 4,
 "nbformat_minor": 2
}
